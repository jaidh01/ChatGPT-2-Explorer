{
 "cells": [
  {
   "cell_type": "code",
   "execution_count": 2,
   "id": "1c04e9a7-8fb4-4499-8264-a1d93092b6ac",
   "metadata": {},
   "outputs": [
    {
     "name": "stdout",
     "output_type": "stream",
     "text": [
      "Note: you may need to restart the kernel to use updated packages.\n"
     ]
    },
    {
     "name": "stderr",
     "output_type": "stream",
     "text": [
      "The system cannot find the file specified.\n"
     ]
    }
   ],
   "source": [
    "pip install numpy<2\n"
   ]
  },
  {
   "cell_type": "code",
   "execution_count": 1,
   "id": "39bc4861-c5bb-4976-a99b-de63f86ce5bf",
   "metadata": {},
   "outputs": [],
   "source": [
    "import torch"
   ]
  },
  {
   "cell_type": "code",
   "execution_count": 2,
   "id": "be4e73c6-6b7c-432f-8e5b-fe7980624710",
   "metadata": {},
   "outputs": [
    {
     "data": {
      "text/plain": [
       "tensor([-95,   9,  71,  26,  60, -61])"
      ]
     },
     "execution_count": 2,
     "metadata": {},
     "output_type": "execute_result"
    }
   ],
   "source": [
    "randint = torch.randint(-100, 100, (6,))\n",
    "randint"
   ]
  },
  {
   "cell_type": "code",
   "execution_count": 3,
   "id": "ab49ac86-2fe9-4323-8c77-c3bab04a4c48",
   "metadata": {},
   "outputs": [
    {
     "data": {
      "text/plain": [
       "tensor([[0.1000, 1.2000],\n",
       "        [2.4000, 0.6000]])"
      ]
     },
     "execution_count": 3,
     "metadata": {},
     "output_type": "execute_result"
    }
   ],
   "source": [
    "tensor = torch.tensor([[0.1, 1.2], [2.4, 0.6]])\n",
    "tensor"
   ]
  },
  {
   "cell_type": "code",
   "execution_count": 4,
   "id": "9f5c0bc2-97a7-434b-8357-fda3dc5a045a",
   "metadata": {},
   "outputs": [
    {
     "data": {
      "text/plain": [
       "tensor([[0., 0., 0.],\n",
       "        [0., 0., 0.]])"
      ]
     },
     "execution_count": 4,
     "metadata": {},
     "output_type": "execute_result"
    }
   ],
   "source": [
    "zeros = torch.zeros(2, 3) # takes dimensio/size as input\n",
    "zeros # outputs are floating point numbers"
   ]
  },
  {
   "cell_type": "code",
   "execution_count": 5,
   "id": "76ee6b54-b48b-41b4-85b2-f99d4614c888",
   "metadata": {},
   "outputs": [
    {
     "data": {
      "text/plain": [
       "tensor([[1., 1., 1., 1., 1.],\n",
       "        [1., 1., 1., 1., 1.],\n",
       "        [1., 1., 1., 1., 1.]])"
      ]
     },
     "execution_count": 5,
     "metadata": {},
     "output_type": "execute_result"
    }
   ],
   "source": [
    "# Ones function\n",
    "ones = torch.ones(3,5)\n",
    "ones"
   ]
  },
  {
   "cell_type": "code",
   "execution_count": 6,
   "id": "8888f808-07ca-4220-8844-de7bd3eadd2c",
   "metadata": {},
   "outputs": [
    {
     "data": {
      "text/plain": [
       "tensor([0, 1, 2, 3, 4])"
      ]
     },
     "execution_count": 6,
     "metadata": {},
     "output_type": "execute_result"
    }
   ],
   "source": [
    "# arrange function\n",
    "arrange = torch.arange(5)\n",
    "arrange"
   ]
  },
  {
   "cell_type": "code",
   "execution_count": 7,
   "id": "dc48c18c-b2e2-4672-80e9-a06b15bb3132",
   "metadata": {},
   "outputs": [
    {
     "data": {
      "text/plain": [
       "tensor([ 3.,  5.,  7.,  9., 11.])"
      ]
     },
     "execution_count": 7,
     "metadata": {},
     "output_type": "execute_result"
    }
   ],
   "source": [
    "linspace = torch.linspace(3, 11, steps = 5)\n",
    "linspace"
   ]
  },
  {
   "cell_type": "code",
   "execution_count": 8,
   "id": "12df47b3-a06b-48c2-af85-6e7e0a874133",
   "metadata": {},
   "outputs": [
    {
     "data": {
      "text/plain": [
       "tensor([1.0000e-10, 1.0000e-05, 1.0000e+00, 1.0000e+05, 1.0000e+10])"
      ]
     },
     "execution_count": 8,
     "metadata": {},
     "output_type": "execute_result"
    }
   ],
   "source": [
    "logspace = torch.logspace(start = -10, end = 10, steps = 5)\n",
    "logspace"
   ]
  },
  {
   "cell_type": "code",
   "execution_count": 9,
   "id": "f2776286-cd94-4d98-bb66-c8d1907ef0cb",
   "metadata": {},
   "outputs": [
    {
     "data": {
      "text/plain": [
       "tensor([[1., 0., 0.],\n",
       "        [0., 1., 0.],\n",
       "        [0., 0., 1.]])"
      ]
     },
     "execution_count": 9,
     "metadata": {},
     "output_type": "execute_result"
    }
   ],
   "source": [
    "eye = torch.eye(3)\n",
    "eye"
   ]
  },
  {
   "cell_type": "code",
   "execution_count": 10,
   "id": "2967f1b2-f754-4ca3-8b3e-66efbcdff09b",
   "metadata": {},
   "outputs": [
    {
     "data": {
      "text/plain": [
       "tensor([[0, 0, 0],\n",
       "        [0, 0, 0]])"
      ]
     },
     "execution_count": 10,
     "metadata": {},
     "output_type": "execute_result"
    }
   ],
   "source": [
    "a = torch.empty((2, 3), dtype = torch.int64)\n",
    "a"
   ]
  },
  {
   "cell_type": "code",
   "execution_count": 11,
   "id": "faa33eda-9526-4064-b13c-84d53ea64a78",
   "metadata": {},
   "outputs": [
    {
     "data": {
      "text/plain": [
       "tensor([[0, 0, 0],\n",
       "        [0, 0, 0]])"
      ]
     },
     "execution_count": 11,
     "metadata": {},
     "output_type": "execute_result"
    }
   ],
   "source": [
    "empty_like = torch.empty_like(a)\n",
    "empty_like"
   ]
  },
  {
   "cell_type": "markdown",
   "id": "7116b87d-fed6-4f8c-a7a8-59c28d758c2c",
   "metadata": {},
   "source": [
    "## CPU vs GPU"
   ]
  },
  {
   "cell_type": "code",
   "execution_count": 2,
   "id": "9d311cff-ae69-4426-8557-205cd18e4a04",
   "metadata": {},
   "outputs": [
    {
     "data": {
      "text/plain": [
       "'CPU'"
      ]
     },
     "execution_count": 2,
     "metadata": {},
     "output_type": "execute_result"
    }
   ],
   "source": [
    "import torch\n",
    "import numpy as np\n",
    "import time\n",
    "device = 'cuda' if torch.cuda.is_available() else 'CPU'\n",
    "device"
   ]
  },
  {
   "cell_type": "code",
   "execution_count": 2,
   "id": "42b629bc-7989-4d95-bfdf-90a1304a5452",
   "metadata": {},
   "outputs": [
    {
     "name": "stdout",
     "output_type": "stream",
     "text": [
      "0.0000000000\n",
      "CPU times: total: 0 ns\n",
      "Wall time: 0 ns\n"
     ]
    }
   ],
   "source": [
    "%%time\n",
    "start_time = time.time()\n",
    "# matrix operations here\n",
    "zeros = torch.zeros(1, 1)\n",
    "end_time = time.time()\n",
    "\n",
    "elapsed_time = end_time - start_time\n",
    "print(f\"{elapsed_time:.10f}\")"
   ]
  },
  {
   "cell_type": "code",
   "execution_count": 11,
   "id": "fbbdb416-f999-48b9-95b8-cb3c1cd7ceeb",
   "metadata": {},
   "outputs": [
    {
     "name": "stdout",
     "output_type": "stream",
     "text": [
      "GPU: 0.0349438190\n",
      "CPU: 0.1642460823\n"
     ]
    }
   ],
   "source": [
    "torch_rand1 = torch.rand(100, 100, 100, 100).to(device)\n",
    "torch_rand2 = torch.rand(100, 100, 100, 100).to(device)\n",
    "np_rand1 = torch.rand(100, 100, 100, 100)\n",
    "np_rand2 = torch.rand(100, 100, 100, 100)\n",
    "\n",
    "start_time = time.time()\n",
    "\n",
    "rand = (torch_rand1 @ torch_rand2)\n",
    "\n",
    "end_time = time.time()\n",
    "elapsed_time = end_time - start_time\n",
    "print(f\"GPU: {elapsed_time:.10f}\")\n",
    "\n",
    "start_time = time.time()\n",
    "\n",
    "rand = np.multiply(np_rand1, np_rand2)\n",
    "end_time = time.time()\n",
    "elapsed_time = end_time - start_time\n",
    "print(f\"CPU: {elapsed_time:.10f}\")"
   ]
  },
  {
   "cell_type": "markdown",
   "id": "70873ff8-e93e-40ab-b078-302cda3ded6e",
   "metadata": {},
   "source": [
    "## Some more examples of torch\n",
    "\n",
    "1. torch.stack()\n",
    "2. torch.multinomial\n",
    "3. torch.tril\n",
    "4. torch.triu\n",
    "5. torch.T/ input.Transpose\n",
    "6. nn.Linear\n",
    "7. torch.cat\n",
    "8. F.softmax"
   ]
  },
  {
   "cell_type": "markdown",
   "id": "6bbf34c8-4ab8-479a-8628-03a67ef241e7",
   "metadata": {},
   "source": [
    "**1. Multinomial**"
   ]
  },
  {
   "cell_type": "code",
   "execution_count": 9,
   "id": "2dfd4459-8415-4bfc-95af-eb853526bca1",
   "metadata": {},
   "outputs": [
    {
     "data": {
      "text/plain": [
       "tensor([1, 1, 1, 1, 1, 1, 1, 1, 1, 1])"
      ]
     },
     "execution_count": 9,
     "metadata": {},
     "output_type": "execute_result"
    }
   ],
   "source": [
    "# Define a probability tensor\n",
    "probabilities = torch.tensor([0.1, 0.9])\n",
    "# 10% or 0.1 => 0, 90% or 0.9 => 1. each probability points to the index of the probability in the tensor\n",
    "# Draw 10 samples from the multinomial distribution.\n",
    "samples = torch.multinomial(probabilities, num_samples = 10, replacement = True)\n",
    "samples"
   ]
  },
  {
   "cell_type": "markdown",
   "id": "485d7285-58a6-4f29-8dc0-38324041e7cf",
   "metadata": {},
   "source": [
    "**2. torch.cat (contancinate)**"
   ]
  },
  {
   "cell_type": "code",
   "execution_count": 13,
   "id": "06d58501-7403-4e4b-aae1-1d46692c24ed",
   "metadata": {},
   "outputs": [
    {
     "data": {
      "text/plain": [
       "tensor([1, 2, 3, 4, 5])"
      ]
     },
     "execution_count": 13,
     "metadata": {},
     "output_type": "execute_result"
    }
   ],
   "source": [
    "tensor = torch.tensor([1, 2, 3, 4])\n",
    "cat = torch.cat((tensor, torch.tensor([5])), dim=0)\n",
    "cat"
   ]
  },
  {
   "cell_type": "markdown",
   "id": "0d6631cd-f11c-4346-8af6-91e5fd0227bf",
   "metadata": {},
   "source": [
    "**3. torch.tril (lower matrix)**"
   ]
  },
  {
   "cell_type": "code",
   "execution_count": 23,
   "id": "ca72d643-770f-4d67-bbea-68a11b2932d4",
   "metadata": {},
   "outputs": [
    {
     "name": "stdout",
     "output_type": "stream",
     "text": [
      "with a:\n",
      " tensor([[-1.3733,  0.0000,  0.0000,  0.0000,  0.0000],\n",
      "        [-0.7870, -1.5850,  0.0000,  0.0000,  0.0000],\n",
      "        [-0.1370, -0.7798, -0.1194,  0.0000,  0.0000],\n",
      "        [-0.7516,  0.5230, -0.0352,  0.8854,  0.0000],\n",
      "        [-0.3934,  0.1471, -1.6231, -0.5835,  0.0260]])\n",
      "without a/ with ones matrix:\n",
      " tensor([[1., 0., 0., 0., 0.],\n",
      "        [1., 1., 0., 0., 0.],\n",
      "        [1., 1., 1., 0., 0.],\n",
      "        [1., 1., 1., 1., 0.],\n",
      "        [1., 1., 1., 1., 1.]])\n"
     ]
    }
   ],
   "source": [
    "a = torch.randn(5, 5)\n",
    "a\n",
    "left_matrix = torch.tril(a)\n",
    "print(f\"with a:\\n {left_matrix}\")\n",
    "left_matrix = torch.tril(torch.ones(5, 5))\n",
    "print(f\"without a/ with ones matrix:\\n {left_matrix}\")"
   ]
  },
  {
   "cell_type": "markdown",
   "id": "557c328d-7c75-47a5-91b7-f9d4d619aa49",
   "metadata": {},
   "source": [
    "**4. torch.triu (upper matrix)**"
   ]
  },
  {
   "cell_type": "code",
   "execution_count": 24,
   "id": "872cc60f-9068-448b-aaea-6a62ab5be113",
   "metadata": {},
   "outputs": [
    {
     "data": {
      "text/plain": [
       "tensor([[1., 1., 1., 1., 1.],\n",
       "        [0., 1., 1., 1., 1.],\n",
       "        [0., 0., 1., 1., 1.],\n",
       "        [0., 0., 0., 1., 1.],\n",
       "        [0., 0., 0., 0., 1.]])"
      ]
     },
     "execution_count": 24,
     "metadata": {},
     "output_type": "execute_result"
    }
   ],
   "source": [
    "out = torch.triu(torch.ones(5, 5))\n",
    "out"
   ]
  },
  {
   "cell_type": "code",
   "execution_count": 25,
   "id": "8b84f4a4-1903-4172-b204-4c4509c4e2db",
   "metadata": {},
   "outputs": [
    {
     "data": {
      "text/plain": [
       "tensor([[0., -inf, -inf, -inf, -inf],\n",
       "        [0., 0., -inf, -inf, -inf],\n",
       "        [0., 0., 0., -inf, -inf],\n",
       "        [0., 0., 0., 0., -inf],\n",
       "        [0., 0., 0., 0., 0.]])"
      ]
     },
     "execution_count": 25,
     "metadata": {},
     "output_type": "execute_result"
    }
   ],
   "source": [
    "out = torch.zeros(5, 5).masked_fill(torch.tril(torch.ones(5, 5)) == 0, float('-inf'))\n",
    "out"
   ]
  },
  {
   "cell_type": "code",
   "execution_count": 26,
   "id": "d216fbd0-dbd2-487d-b456-98d201cc8d32",
   "metadata": {},
   "outputs": [
    {
     "data": {
      "text/plain": [
       "tensor([[1., 0., 0., 0., 0.],\n",
       "        [1., 1., 0., 0., 0.],\n",
       "        [1., 1., 1., 0., 0.],\n",
       "        [1., 1., 1., 1., 0.],\n",
       "        [1., 1., 1., 1., 1.]])"
      ]
     },
     "execution_count": 26,
     "metadata": {},
     "output_type": "execute_result"
    }
   ],
   "source": [
    "torch.exp(out)"
   ]
  },
  {
   "cell_type": "markdown",
   "id": "6838864f-e749-4bc5-bac0-5a5c165c7670",
   "metadata": {},
   "source": [
    "**5. transpose function**"
   ]
  },
  {
   "cell_type": "code",
   "execution_count": 31,
   "id": "553ff35c-e434-4ebb-92f8-879d03245e35",
   "metadata": {},
   "outputs": [
    {
     "data": {
      "text/plain": [
       "torch.Size([4, 3, 2])"
      ]
     },
     "execution_count": 31,
     "metadata": {},
     "output_type": "execute_result"
    }
   ],
   "source": [
    "input = torch.zeros(2, 3, 4)\n",
    "one = input.transpose(0, 2)    # flip the oth (zero-th) position with the 2nd posisiton.\n",
    "one.shape"
   ]
  },
  {
   "cell_type": "markdown",
   "id": "754c0a8e-84bd-41a8-9da1-596b4cce0cec",
   "metadata": {},
   "source": [
    "**6. torch.stack()**"
   ]
  },
  {
   "cell_type": "code",
   "execution_count": 34,
   "id": "5c950af6-f204-423e-8d97-aaabe1770677",
   "metadata": {},
   "outputs": [
    {
     "data": {
      "text/plain": [
       "tensor([[1, 2, 3],\n",
       "        [4, 5, 6],\n",
       "        [7, 8, 9]])"
      ]
     },
     "execution_count": 34,
     "metadata": {},
     "output_type": "execute_result"
    }
   ],
   "source": [
    "tensor1 = torch.tensor([1, 2, 3])\n",
    "tensor2 = torch.tensor([4, 5, 6])\n",
    "tensor3 = torch.tensor([7, 8, 9])\n",
    "\n",
    "# Stack these tensor together in a new dimension\n",
    "final_tensor = torch.stack([tensor1, tensor2, tensor3])\n",
    "final_tensor"
   ]
  },
  {
   "cell_type": "markdown",
   "id": "db7967a8-917e-472c-85b8-ed391bfd809d",
   "metadata": {},
   "source": [
    "**7.nn.linear function**"
   ]
  },
  {
   "cell_type": "code",
   "execution_count": 35,
   "id": "43764d82-9a8f-4e7b-a30b-b26e54828d96",
   "metadata": {},
   "outputs": [
    {
     "data": {
      "text/plain": [
       "tensor([ 6.4322, 11.0617, -4.1140], grad_fn=<SqueezeBackward4>)"
      ]
     },
     "execution_count": 35,
     "metadata": {},
     "output_type": "execute_result"
    }
   ],
   "source": [
    "import torch.nn as nn\n",
    "sample = torch.tensor([10., 10., 10.])\n",
    "linear = nn.Linear(3, 3, bias=False)\n",
    "linear(sample)"
   ]
  },
  {
   "cell_type": "markdown",
   "id": "dd6a14e9-aacc-485b-b35f-8b6e1220914a",
   "metadata": {},
   "source": [
    "**8.Softmax function**"
   ]
  },
  {
   "cell_type": "code",
   "execution_count": 36,
   "id": "510e8025-24c9-40e7-98af-8347125e79a3",
   "metadata": {},
   "outputs": [
    {
     "data": {
      "text/plain": [
       "tensor([0.0900, 0.2447, 0.6652])"
      ]
     },
     "execution_count": 36,
     "metadata": {},
     "output_type": "execute_result"
    }
   ],
   "source": [
    "import torch.nn.functional as F\n",
    "\n",
    "# Create a tensor\n",
    "tensor1 = torch.tensor([1., 2., 3.])\n",
    "\n",
    "# Apply softmax using nn.functional.softmax()\n",
    "softmax_output = F.softmax(tensor1, dim=0)\n",
    "softmax_output"
   ]
  },
  {
   "cell_type": "markdown",
   "id": "094097f5-9e93-424d-9ca1-e550b319c46c",
   "metadata": {},
   "source": [
    "## nn.Embeddings"
   ]
  },
  {
   "cell_type": "code",
   "execution_count": 37,
   "id": "c42f9fe2-44c0-4270-b761-091fb6f61870",
   "metadata": {},
   "outputs": [
    {
     "data": {
      "text/plain": [
       "torch.Size([4, 100])"
      ]
     },
     "execution_count": 37,
     "metadata": {},
     "output_type": "execute_result"
    }
   ],
   "source": [
    "# Initialize an embedding layer\n",
    "vocab_size = 1000\n",
    "embedding_dim = 100\n",
    "embedding = nn.Embedding(vocab_size, embedding_dim)\n",
    "\n",
    "# Create some input indices\n",
    "input_indicies = torch.LongTensor([1, 5, 3, 2])\n",
    "\n",
    "# Apply the embedding layer\n",
    "embedded_output = embedding(input_indicies)\n",
    "\n",
    "# The output will be a tensor of shape (4, 100), where 4 is the number of inputs\n",
    "# and 100 is the dimensianality of the embedding vector\n",
    "embedded_output.shape"
   ]
  },
  {
   "cell_type": "markdown",
   "id": "aa3b18b2-a8d8-45fc-afdd-6b1a318cbf76",
   "metadata": {},
   "source": [
    "## matrix multiplication"
   ]
  },
  {
   "cell_type": "code",
   "execution_count": 41,
   "id": "1a1eb6ec-6fbd-4428-9d10-c8e3e2400672",
   "metadata": {},
   "outputs": [
    {
     "name": "stdout",
     "output_type": "stream",
     "text": [
      "tensor([[ 27,  32,  31],\n",
      "        [ 88, 104, 102],\n",
      "        [163, 192, 191]])\n"
     ]
    }
   ],
   "source": [
    "a = torch.tensor([[1, 2], [4, 6], [9, 10]])\n",
    "b = torch.tensor([[7, 8, 9], [10, 12, 11]])\n",
    "\n",
    "# print(a @ b)\n",
    "print(torch.matmul(a, b)) # does the same thing as of above"
   ]
  },
  {
   "cell_type": "code",
   "execution_count": 47,
   "id": "14765870-003c-4c5c-bbd4-a28404e9c778",
   "metadata": {},
   "outputs": [
    {
     "data": {
      "text/plain": [
       "tensor([[0.3991, 0.3056, 0.1187],\n",
       "        [0.7957, 0.4801, 0.6980],\n",
       "        [1.1947, 0.7857, 0.8167]])"
      ]
     },
     "execution_count": 47,
     "metadata": {},
     "output_type": "execute_result"
    }
   ],
   "source": [
    "# type int_64\n",
    "int_64 = torch.randint(2, (3, 2)).float()\n",
    "# type_float_32\n",
    "float_32 = torch.rand(2, 3)\n",
    "# print(int_64.dtype, float_32.dtype)\n",
    "result = torch.matmul(int_64, float_32)\n",
    "result"
   ]
  },
  {
   "cell_type": "code",
   "execution_count": null,
   "id": "da752e8a-56b3-4a9c-99ea-ede77d0a5ac4",
   "metadata": {},
   "outputs": [],
   "source": []
  }
 ],
 "metadata": {
  "kernelspec": {
   "display_name": "cuda-gpt",
   "language": "python",
   "name": "cuda"
  },
  "language_info": {
   "codemirror_mode": {
    "name": "ipython",
    "version": 3
   },
   "file_extension": ".py",
   "mimetype": "text/x-python",
   "name": "python",
   "nbconvert_exporter": "python",
   "pygments_lexer": "ipython3",
   "version": "3.12.5"
  }
 },
 "nbformat": 4,
 "nbformat_minor": 5
}
